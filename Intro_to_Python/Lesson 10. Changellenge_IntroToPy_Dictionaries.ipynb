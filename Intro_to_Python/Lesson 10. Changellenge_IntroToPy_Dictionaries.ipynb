{
  "cells": [
    {
      "metadata": {
        "collapsed": true
      },
      "cell_type": "markdown",
      "source": "#  Module 10 Dictionaries\n\n"
    },
    {
      "metadata": {
        "trusted": true
      },
      "cell_type": "code",
      "source": "country = ['Великобритания','Россия','Марокко','Монголия','Эстония']\ncity = ['Лондон','Москва','Рабат','Улан-Батор','Таллин']",
      "execution_count": 2,
      "outputs": []
    },
    {
      "metadata": {
        "trusted": true
      },
      "cell_type": "code",
      "source": "# create a dictionary with \"key-value\" pairs\nA = {'Великобритания':'Лондон','Россия':'Москва','Марокко':'Рабат','Монголия':'Улан-Батор','Эстония':'Таллин'}",
      "execution_count": 3,
      "outputs": []
    },
    {
      "metadata": {
        "trusted": true
      },
      "cell_type": "code",
      "source": "# use dict to retrieve value according to the key input\ns = input('Enter a country name: ')\nprint('The capital is:',A[s])",
      "execution_count": 9,
      "outputs": [
        {
          "output_type": "stream",
          "name": "stdout",
          "text": "Enter a country name: Mexico\n"
        },
        {
          "output_type": "error",
          "ename": "KeyError",
          "evalue": "'Mexico'",
          "traceback": [
            "\u001b[0;31m---------------------------------------------------------------------------\u001b[0m",
            "\u001b[0;31mKeyError\u001b[0m                                  Traceback (most recent call last)",
            "\u001b[0;32m<ipython-input-9-8a42fc8a09f4>\u001b[0m in \u001b[0;36m<module>\u001b[0;34m\u001b[0m\n\u001b[1;32m      1\u001b[0m \u001b[0;31m# use dict to retrieve value according to the key input\u001b[0m\u001b[0;34m\u001b[0m\u001b[0;34m\u001b[0m\u001b[0m\n\u001b[1;32m      2\u001b[0m \u001b[0ms\u001b[0m \u001b[0;34m=\u001b[0m \u001b[0minput\u001b[0m\u001b[0;34m(\u001b[0m\u001b[0;34m'Enter a country name: '\u001b[0m\u001b[0;34m)\u001b[0m\u001b[0;34m\u001b[0m\u001b[0m\n\u001b[0;32m----> 3\u001b[0;31m \u001b[0mprint\u001b[0m\u001b[0;34m(\u001b[0m\u001b[0;34m'The capital is:'\u001b[0m\u001b[0;34m,\u001b[0m\u001b[0mA\u001b[0m\u001b[0;34m[\u001b[0m\u001b[0ms\u001b[0m\u001b[0;34m]\u001b[0m\u001b[0;34m)\u001b[0m\u001b[0;34m\u001b[0m\u001b[0m\n\u001b[0m",
            "\u001b[0;31mKeyError\u001b[0m: 'Mexico'"
          ]
        }
      ]
    },
    {
      "metadata": {
        "trusted": true
      },
      "cell_type": "code",
      "source": "# adding a new 'key-value' pair to the dictionary\nA['Франция'] = 'Париж'\nprint(A)",
      "execution_count": 6,
      "outputs": [
        {
          "output_type": "stream",
          "text": "{'Великобритания': 'Лондон', 'Россия': 'Москва', 'Марокко': 'Рабат', 'Монголия': 'Улан-Батор', 'Эстония': 'Таллин', 'Франция': 'Париж'}\n",
          "name": "stdout"
        }
      ]
    },
    {
      "metadata": {
        "trusted": true
      },
      "cell_type": "code",
      "source": "#check \"in\" functionality with dictionaries\n'Albuquerque' in A",
      "execution_count": 7,
      "outputs": [
        {
          "output_type": "execute_result",
          "execution_count": 7,
          "data": {
            "text/plain": "False"
          },
          "metadata": {}
        }
      ]
    },
    {
      "metadata": {
        "trusted": true
      },
      "cell_type": "code",
      "source": "# .get() method\ns = input('Enter a country name: ')\nprint('Capital is',A.get(s,'UNKNOWN'))",
      "execution_count": 11,
      "outputs": [
        {
          "output_type": "stream",
          "name": "stdout",
          "text": "Enter a country name: Mehico\nCapital is UNKNOWN\n"
        }
      ]
    },
    {
      "metadata": {
        "trusted": true
      },
      "cell_type": "code",
      "source": "# check del functionality\ndel A['Монголия']",
      "execution_count": 13,
      "outputs": [
        {
          "output_type": "error",
          "ename": "KeyError",
          "evalue": "'Монголия'",
          "traceback": [
            "\u001b[0;31m---------------------------------------------------------------------------\u001b[0m",
            "\u001b[0;31mKeyError\u001b[0m                                  Traceback (most recent call last)",
            "\u001b[0;32m<ipython-input-13-abf065f38f04>\u001b[0m in \u001b[0;36m<module>\u001b[0;34m\u001b[0m\n\u001b[0;32m----> 1\u001b[0;31m \u001b[0;32mdel\u001b[0m \u001b[0mA\u001b[0m\u001b[0;34m[\u001b[0m\u001b[0;34m'Монголия'\u001b[0m\u001b[0;34m]\u001b[0m\u001b[0;34m\u001b[0m\u001b[0m\n\u001b[0m",
            "\u001b[0;31mKeyError\u001b[0m: 'Монголия'"
          ]
        }
      ]
    },
    {
      "metadata": {
        "trusted": true
      },
      "cell_type": "code",
      "source": "# check whether the value is deleted from dictionary by del\n\ns = input('Enter a country name: ')\nprint('The capital is:',A[s])",
      "execution_count": 14,
      "outputs": [
        {
          "output_type": "stream",
          "name": "stdout",
          "text": "Enter a country name: Монголия\n"
        },
        {
          "output_type": "error",
          "ename": "KeyError",
          "evalue": "'Монголия'",
          "traceback": [
            "\u001b[0;31m---------------------------------------------------------------------------\u001b[0m",
            "\u001b[0;31mKeyError\u001b[0m                                  Traceback (most recent call last)",
            "\u001b[0;32m<ipython-input-14-bb3be30c71d4>\u001b[0m in \u001b[0;36m<module>\u001b[0;34m\u001b[0m\n\u001b[1;32m      1\u001b[0m \u001b[0ms\u001b[0m \u001b[0;34m=\u001b[0m \u001b[0minput\u001b[0m\u001b[0;34m(\u001b[0m\u001b[0;34m'Enter a country name: '\u001b[0m\u001b[0;34m)\u001b[0m\u001b[0;34m\u001b[0m\u001b[0m\n\u001b[0;32m----> 2\u001b[0;31m \u001b[0mprint\u001b[0m\u001b[0;34m(\u001b[0m\u001b[0;34m'The capital is:'\u001b[0m\u001b[0;34m,\u001b[0m\u001b[0mA\u001b[0m\u001b[0;34m[\u001b[0m\u001b[0ms\u001b[0m\u001b[0;34m]\u001b[0m\u001b[0;34m)\u001b[0m\u001b[0;34m\u001b[0m\u001b[0m\n\u001b[0m",
            "\u001b[0;31mKeyError\u001b[0m: 'Монголия'"
          ]
        }
      ]
    },
    {
      "metadata": {
        "trusted": true
      },
      "cell_type": "code",
      "source": "# .pop() is a safe way to delete a value from the dictionary w/out getting an error in case of value absence in the dict\n# that is how .pop() method works\ns = input('Enter a country name: ')\nA.pop(s,'country does not exist!')\n\n# check if the value deleted by entering the corresponding value\nprint(A)",
      "execution_count": 17,
      "outputs": [
        {
          "output_type": "stream",
          "name": "stdout",
          "text": "Enter a country name: Великобритания\n{'Марокко': 'Рабат', 'Эстония': 'Таллин', 'Франция': 'Париж'}\n"
        }
      ]
    },
    {
      "metadata": {
        "trusted": true
      },
      "cell_type": "code",
      "source": "# for - in method can be used to retrieve \"key-value\" pairs from the dict\n\nfor key in A:\n    print(key,A[key])",
      "execution_count": 18,
      "outputs": [
        {
          "output_type": "stream",
          "text": "Марокко Рабат\nЭстония Таллин\nФранция Париж\n",
          "name": "stdout"
        }
      ]
    },
    {
      "metadata": {
        "trusted": true
      },
      "cell_type": "code",
      "source": "# .keys() method to reveal all the keys in current dictionary\nprint(A.keys())",
      "execution_count": 19,
      "outputs": [
        {
          "output_type": "stream",
          "text": "dict_keys(['Марокко', 'Эстония', 'Франция'])\n",
          "name": "stdout"
        }
      ]
    },
    {
      "metadata": {
        "trusted": true
      },
      "cell_type": "code",
      "source": "# .values() method to reveal all the values  in current dictionary\nprint(A.values())",
      "execution_count": 20,
      "outputs": [
        {
          "output_type": "stream",
          "text": "dict_values(['Рабат', 'Таллин', 'Париж'])\n",
          "name": "stdout"
        }
      ]
    },
    {
      "metadata": {
        "trusted": true
      },
      "cell_type": "code",
      "source": "# .items() method to retrieve all the \"key-value\" pairs in the dictionary\nprint(A.items())",
      "execution_count": 21,
      "outputs": [
        {
          "output_type": "stream",
          "text": "dict_items([('Марокко', 'Рабат'), ('Эстония', 'Таллин'), ('Франция', 'Париж')])\n",
          "name": "stdout"
        }
      ]
    },
    {
      "metadata": {
        "trusted": true
      },
      "cell_type": "code",
      "source": "for key, value in A.items():\n    print(key,value)",
      "execution_count": 22,
      "outputs": [
        {
          "output_type": "stream",
          "text": "Марокко Рабат\nЭстония Таллин\nФранция Париж\n",
          "name": "stdout"
        }
      ]
    },
    {
      "metadata": {},
      "cell_type": "markdown",
      "source": "### Task 1\n\n\n\n\n\n\n"
    },
    {
      "metadata": {
        "trusted": true
      },
      "cell_type": "code",
      "source": "a = {}\nnum = 100\nfor i in range(1,101):\n    a[i] = num\n    num -= 1\nprint(a.items())\nprint(len(a))",
      "execution_count": 23,
      "outputs": [
        {
          "output_type": "stream",
          "text": "dict_items([(1, 100), (2, 99), (3, 98), (4, 97), (5, 96), (6, 95), (7, 94), (8, 93), (9, 92), (10, 91), (11, 90), (12, 89), (13, 88), (14, 87), (15, 86), (16, 85), (17, 84), (18, 83), (19, 82), (20, 81), (21, 80), (22, 79), (23, 78), (24, 77), (25, 76), (26, 75), (27, 74), (28, 73), (29, 72), (30, 71), (31, 70), (32, 69), (33, 68), (34, 67), (35, 66), (36, 65), (37, 64), (38, 63), (39, 62), (40, 61), (41, 60), (42, 59), (43, 58), (44, 57), (45, 56), (46, 55), (47, 54), (48, 53), (49, 52), (50, 51), (51, 50), (52, 49), (53, 48), (54, 47), (55, 46), (56, 45), (57, 44), (58, 43), (59, 42), (60, 41), (61, 40), (62, 39), (63, 38), (64, 37), (65, 36), (66, 35), (67, 34), (68, 33), (69, 32), (70, 31), (71, 30), (72, 29), (73, 28), (74, 27), (75, 26), (76, 25), (77, 24), (78, 23), (79, 22), (80, 21), (81, 20), (82, 19), (83, 18), (84, 17), (85, 16), (86, 15), (87, 14), (88, 13), (89, 12), (90, 11), (91, 10), (92, 9), (93, 8), (94, 7), (95, 6), (96, 5), (97, 4), (98, 3), (99, 2), (100, 1)])\n100\n",
          "name": "stdout"
        }
      ]
    },
    {
      "metadata": {},
      "cell_type": "markdown",
      "source": "### Task 2\n\n\n\n\n\n\n"
    },
    {
      "metadata": {
        "trusted": true
      },
      "cell_type": "code",
      "source": "a = {}\nnum = 100\nfor i in range(1,101):\n    a[i] = num\n    num -= 1\nprint(a.items())\nprint(len(a.items()))",
      "execution_count": 24,
      "outputs": [
        {
          "output_type": "stream",
          "text": "dict_items([(1, 100), (2, 99), (3, 98), (4, 97), (5, 96), (6, 95), (7, 94), (8, 93), (9, 92), (10, 91), (11, 90), (12, 89), (13, 88), (14, 87), (15, 86), (16, 85), (17, 84), (18, 83), (19, 82), (20, 81), (21, 80), (22, 79), (23, 78), (24, 77), (25, 76), (26, 75), (27, 74), (28, 73), (29, 72), (30, 71), (31, 70), (32, 69), (33, 68), (34, 67), (35, 66), (36, 65), (37, 64), (38, 63), (39, 62), (40, 61), (41, 60), (42, 59), (43, 58), (44, 57), (45, 56), (46, 55), (47, 54), (48, 53), (49, 52), (50, 51), (51, 50), (52, 49), (53, 48), (54, 47), (55, 46), (56, 45), (57, 44), (58, 43), (59, 42), (60, 41), (61, 40), (62, 39), (63, 38), (64, 37), (65, 36), (66, 35), (67, 34), (68, 33), (69, 32), (70, 31), (71, 30), (72, 29), (73, 28), (74, 27), (75, 26), (76, 25), (77, 24), (78, 23), (79, 22), (80, 21), (81, 20), (82, 19), (83, 18), (84, 17), (85, 16), (86, 15), (87, 14), (88, 13), (89, 12), (90, 11), (91, 10), (92, 9), (93, 8), (94, 7), (95, 6), (96, 5), (97, 4), (98, 3), (99, 2), (100, 1)])\n100\n",
          "name": "stdout"
        }
      ]
    },
    {
      "metadata": {},
      "cell_type": "markdown",
      "source": "### Task 3\n\n\n\n\n\n"
    },
    {
      "metadata": {
        "trusted": true
      },
      "cell_type": "code",
      "source": "A = {}\n\nstring = 'Python это высокоуровневый язык программирования общего назначения, ориентированный на повышение производительности разработчика и читаемости кода. Синтаксис ядра Python минималистичен. В то же время стандартная библиотека включает большой объём полезных функций. Python поддерживает структурное, объектно-ориентированное, функциональное и аспектно-ориентированное программирование. Основные архитектурные черты это динамическая типизация, автоматическое управление памятью, полная интроспекция, механизм обработки исключений, поддержка многопоточных вычислений, высокоуровневые структуры данных. Поддерживается разбиение программ на модули, которые, в свою очередь, могут объединяться в пакеты. Эталонной реализацией Python является интерпретатор CPython, поддерживающий большинство активно используемых платформ. Он распространяется под свободной лицензией Python Software Foundation License, позволяющей использовать его без ограничений в любых приложениях, включая проприетарные. Есть реализации интерпретатора для JVM с возможностью компиляции, CLR, LLVM, другие независимые реализации. Проект PyPy использует JIT-компиляцию, которая значительно увеличивает скорость выполнения Python-программ.'\nstring1 = string.replace(',','')\nstring2 = string1.replace('-','')\nfinal_string = string2.replace('.','')\n\nprint(final_string)\n\nfinal_list = final_string.split()\nfor key in final_list:\n    A[key] = final_list.count(key)\n\nprint(A.items())\nprint(len(A))",
      "execution_count": 28,
      "outputs": [
        {
          "output_type": "stream",
          "text": "Python это высокоуровневый язык программирования общего назначения ориентированный на повышение производительности разработчика и читаемости кода Синтаксис ядра Python минималистичен В то же время стандартная библиотека включает большой объём полезных функций Python поддерживает структурное объектноориентированное функциональное и аспектноориентированное программирование Основные архитектурные черты это динамическая типизация автоматическое управление памятью полная интроспекция механизм обработки исключений поддержка многопоточных вычислений высокоуровневые структуры данных Поддерживается разбиение программ на модули которые в свою очередь могут объединяться в пакеты Эталонной реализацией Python является интерпретатор CPython поддерживающий большинство активно используемых платформ Он распространяется под свободной лицензией Python Software Foundation License позволяющей использовать его без ограничений в любых приложениях включая проприетарные Есть реализации интерпретатора для JVM с возможностью компиляции CLR LLVM другие независимые реализации Проект PyPy использует JITкомпиляцию которая значительно увеличивает скорость выполнения Pythonпрограмм\ndict_items([('Python', 5), ('это', 2), ('высокоуровневый', 1), ('язык', 1), ('программирования', 1), ('общего', 1), ('назначения', 1), ('ориентированный', 1), ('на', 2), ('повышение', 1), ('производительности', 1), ('разработчика', 1), ('и', 2), ('читаемости', 1), ('кода', 1), ('Синтаксис', 1), ('ядра', 1), ('минималистичен', 1), ('В', 1), ('то', 1), ('же', 1), ('время', 1), ('стандартная', 1), ('библиотека', 1), ('включает', 1), ('большой', 1), ('объём', 1), ('полезных', 1), ('функций', 1), ('поддерживает', 1), ('структурное', 1), ('объектноориентированное', 1), ('функциональное', 1), ('аспектноориентированное', 1), ('программирование', 1), ('Основные', 1), ('архитектурные', 1), ('черты', 1), ('динамическая', 1), ('типизация', 1), ('автоматическое', 1), ('управление', 1), ('памятью', 1), ('полная', 1), ('интроспекция', 1), ('механизм', 1), ('обработки', 1), ('исключений', 1), ('поддержка', 1), ('многопоточных', 1), ('вычислений', 1), ('высокоуровневые', 1), ('структуры', 1), ('данных', 1), ('Поддерживается', 1), ('разбиение', 1), ('программ', 1), ('модули', 1), ('которые', 1), ('в', 3), ('свою', 1), ('очередь', 1), ('могут', 1), ('объединяться', 1), ('пакеты', 1), ('Эталонной', 1), ('реализацией', 1), ('является', 1), ('интерпретатор', 1), ('CPython', 1), ('поддерживающий', 1), ('большинство', 1), ('активно', 1), ('используемых', 1), ('платформ', 1), ('Он', 1), ('распространяется', 1), ('под', 1), ('свободной', 1), ('лицензией', 1), ('Software', 1), ('Foundation', 1), ('License', 1), ('позволяющей', 1), ('использовать', 1), ('его', 1), ('без', 1), ('ограничений', 1), ('любых', 1), ('приложениях', 1), ('включая', 1), ('проприетарные', 1), ('Есть', 1), ('реализации', 2), ('интерпретатора', 1), ('для', 1), ('JVM', 1), ('с', 1), ('возможностью', 1), ('компиляции', 1), ('CLR', 1), ('LLVM', 1), ('другие', 1), ('независимые', 1), ('Проект', 1), ('PyPy', 1), ('использует', 1), ('JITкомпиляцию', 1), ('которая', 1), ('значительно', 1), ('увеличивает', 1), ('скорость', 1), ('выполнения', 1), ('Pythonпрограмм', 1)])\n114\n",
          "name": "stdout"
        }
      ]
    },
    {
      "metadata": {
        "trusted": true
      },
      "cell_type": "code",
      "source": "",
      "execution_count": null,
      "outputs": []
    }
  ],
  "metadata": {
    "kernelspec": {
      "name": "python36",
      "display_name": "Python 3.6",
      "language": "python"
    },
    "language_info": {
      "mimetype": "text/x-python",
      "nbconvert_exporter": "python",
      "name": "python",
      "pygments_lexer": "ipython3",
      "version": "3.6.6",
      "file_extension": ".py",
      "codemirror_mode": {
        "version": 3,
        "name": "ipython"
      }
    }
  },
  "nbformat": 4,
  "nbformat_minor": 2
}