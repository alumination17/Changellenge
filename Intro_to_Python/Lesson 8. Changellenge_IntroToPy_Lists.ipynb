{
  "cells": [
    {
      "metadata": {
        "collapsed": true
      },
      "cell_type": "markdown",
      "source": "#  Module 8 Lists\n\n"
    },
    {
      "metadata": {
        "trusted": true
      },
      "cell_type": "code",
      "source": "x = [2,3,5,7,9]\n",
      "execution_count": null,
      "outputs": []
    },
    {
      "metadata": {
        "trusted": true
      },
      "cell_type": "code",
      "source": "x.clear()\nprint(x)",
      "execution_count": null,
      "outputs": []
    },
    {
      "metadata": {
        "trusted": true
      },
      "cell_type": "code",
      "source": "x.sort(reverse = True)\nprint(x,'x in reverse mode')",
      "execution_count": null,
      "outputs": []
    },
    {
      "metadata": {
        "trusted": true
      },
      "cell_type": "code",
      "source": "x.sort(reverse = False)\nprint(x,'x in regular mode')",
      "execution_count": null,
      "outputs": []
    },
    {
      "metadata": {
        "trusted": true
      },
      "cell_type": "code",
      "source": "s = ''\ntrans_list = []\n\nwhile (s != 'quit'):\n    s = input(\"Enter transaction sum or \\'quit\\' to quit: \")\n    if s.isdigit():\n        trans_list.append(int(s))\n    elif (s == 'quit'):\n        pass\n    else:\n        print('Invalid input: Please enter a number!')\n        \nprint(trans_list)\n\ncomm = input('\\nWould you like to apply any corrections to the transaction list? y / n :')\nnum = 1\n\nif comm == 'y':\n    for i in trans_list:\n        print('\\nTransaction number: ',num,'\\n',i,'\\n')\n        num += 1\n        \n    trans_num = input('Enter transaction number you would like to correct: ')\n    if trans_num.isdigit():\n        if int(trans_num) <= len(trans_list):\n            new_summ = input('Please enter new transaction sum: ')\n            if new_summ.isdigit():\n                trans_list[(int(trans_num)-1)] = int(new_summ)\n            else:\n                print('Invalid input: Please enter a number!')\n        else:\n            print('Entered value exceeds the list!')\n    else:\n        print('Invalid input: Please enter a number!')\n\nprint(trans_list)\n\nprint('\\n\\t\\tTOTAL:')\nprint('\\nMin purchase sum:',min(trans_list))\nprint('\\nMax purchase sum:',max(trans_list))\nprint('\\nOverall purchase sum:',sum(trans_list))",
      "execution_count": 6,
      "outputs": [
        {
          "output_type": "stream",
          "name": "stdout",
          "text": "Enter transaction sum or 'quit' to quit: 1\nEnter transaction sum or 'quit' to quit: 2\nEnter transaction sum or 'quit' to quit: 3\nEnter transaction sum or 'quit' to quit: 4\nEnter transaction sum or 'quit' to quit: 5\nEnter transaction sum or 'quit' to quit: quit\n[1, 2, 3, 4, 5]\n\nWould you like to apply any corrections to the transaction list? y / n :y\n\nTransaction number:  1 \n 1 \n\n\nTransaction number:  2 \n 2 \n\n\nTransaction number:  3 \n 3 \n\n\nTransaction number:  4 \n 4 \n\n\nTransaction number:  5 \n 5 \n\nEnter transaction number you would like to correct: 1\nPlease enter new transaction sum: 44\n[44, 2, 3, 4, 5]\n\n\t\tTOTAL:\n\nMin purchase sum: 2\n\nMax purchase sum: 44\n\nOverall purchase sum: 58\n"
        }
      ]
    },
    {
      "metadata": {
        "trusted": true
      },
      "cell_type": "code",
      "source": "",
      "execution_count": null,
      "outputs": []
    },
    {
      "metadata": {},
      "cell_type": "markdown",
      "source": "### Task 1\n\n\n\n\n\n\n"
    },
    {
      "metadata": {
        "trusted": true
      },
      "cell_type": "code",
      "source": "a = [1,1,2,3,5,8,13,21,34,36,40]\nb = []\n\nfor i in a:\n    if i % 2 == 0:\n        b.append(i)\n\nprint(b)\naverage = sum(b) / len(b)\n\nprint('Average of \\'b\\' list is:',int(average))",
      "execution_count": 20,
      "outputs": [
        {
          "output_type": "stream",
          "text": "[2, 8, 34, 36, 40]\nAverage of 'b' list is: 24\n",
          "name": "stdout"
        }
      ]
    },
    {
      "metadata": {},
      "cell_type": "markdown",
      "source": "### Task 2\n\n\n\n\n\n\n\n"
    },
    {
      "metadata": {
        "trusted": true
      },
      "cell_type": "code",
      "source": "import math\n\nuser_list = list(sorted(range(1,301)))\neven_list = []\nprint('user list:','\\n',user_list)\n\nfor i in user_list[115:229]:\n    if i % 2 == 0:\n        even_list.append(i)\neven_list.sort(reverse = False)\nprint('\\neven list:','\\n',even_list)\n\nsum_user_list = sum(user_list)\nsum_even_list = sum(even_list)\n\nsqrt_user = math.sqrt(sum_user_list)\nsqrt_even = math.sqrt(sum_even_list)\n\na = math.ceil(sqrt_user)\nb = math.ceil(sqrt_even)\n\nprint('\\nRounded up result \\'b\\':',b)\n\n\n",
      "execution_count": 19,
      "outputs": [
        {
          "output_type": "stream",
          "text": "user list: \n [1, 2, 3, 4, 5, 6, 7, 8, 9, 10, 11, 12, 13, 14, 15, 16, 17, 18, 19, 20, 21, 22, 23, 24, 25, 26, 27, 28, 29, 30, 31, 32, 33, 34, 35, 36, 37, 38, 39, 40, 41, 42, 43, 44, 45, 46, 47, 48, 49, 50, 51, 52, 53, 54, 55, 56, 57, 58, 59, 60, 61, 62, 63, 64, 65, 66, 67, 68, 69, 70, 71, 72, 73, 74, 75, 76, 77, 78, 79, 80, 81, 82, 83, 84, 85, 86, 87, 88, 89, 90, 91, 92, 93, 94, 95, 96, 97, 98, 99, 100, 101, 102, 103, 104, 105, 106, 107, 108, 109, 110, 111, 112, 113, 114, 115, 116, 117, 118, 119, 120, 121, 122, 123, 124, 125, 126, 127, 128, 129, 130, 131, 132, 133, 134, 135, 136, 137, 138, 139, 140, 141, 142, 143, 144, 145, 146, 147, 148, 149, 150, 151, 152, 153, 154, 155, 156, 157, 158, 159, 160, 161, 162, 163, 164, 165, 166, 167, 168, 169, 170, 171, 172, 173, 174, 175, 176, 177, 178, 179, 180, 181, 182, 183, 184, 185, 186, 187, 188, 189, 190, 191, 192, 193, 194, 195, 196, 197, 198, 199, 200, 201, 202, 203, 204, 205, 206, 207, 208, 209, 210, 211, 212, 213, 214, 215, 216, 217, 218, 219, 220, 221, 222, 223, 224, 225, 226, 227, 228, 229, 230, 231, 232, 233, 234, 235, 236, 237, 238, 239, 240, 241, 242, 243, 244, 245, 246, 247, 248, 249, 250, 251, 252, 253, 254, 255, 256, 257, 258, 259, 260, 261, 262, 263, 264, 265, 266, 267, 268, 269, 270, 271, 272, 273, 274, 275, 276, 277, 278, 279, 280, 281, 282, 283, 284, 285, 286, 287, 288, 289, 290, 291, 292, 293, 294, 295, 296, 297, 298, 299, 300]\n\neven list: \n [116, 118, 120, 122, 124, 126, 128, 130, 132, 134, 136, 138, 140, 142, 144, 146, 148, 150, 152, 154, 156, 158, 160, 162, 164, 166, 168, 170, 172, 174, 176, 178, 180, 182, 184, 186, 188, 190, 192, 194, 196, 198, 200, 202, 204, 206, 208, 210, 212, 214, 216, 218, 220, 222, 224, 226, 228]\n\nRounded up result 'b': 100\n",
          "name": "stdout"
        }
      ]
    },
    {
      "metadata": {
        "trusted": true
      },
      "cell_type": "markdown",
      "source": "### Task 3\n\n\n\n\n\n\n"
    },
    {
      "metadata": {
        "trusted": true
      },
      "cell_type": "code",
      "source": "user_list = []\n\nfor i in range(1,301):\n    if i > 35 and i < 265:\n        user_list.append(i)\nprint(sum(user_list))\nprint(user_list)",
      "execution_count": 30,
      "outputs": [
        {
          "output_type": "stream",
          "text": "34350\n[36, 37, 38, 39, 40, 41, 42, 43, 44, 45, 46, 47, 48, 49, 50, 51, 52, 53, 54, 55, 56, 57, 58, 59, 60, 61, 62, 63, 64, 65, 66, 67, 68, 69, 70, 71, 72, 73, 74, 75, 76, 77, 78, 79, 80, 81, 82, 83, 84, 85, 86, 87, 88, 89, 90, 91, 92, 93, 94, 95, 96, 97, 98, 99, 100, 101, 102, 103, 104, 105, 106, 107, 108, 109, 110, 111, 112, 113, 114, 115, 116, 117, 118, 119, 120, 121, 122, 123, 124, 125, 126, 127, 128, 129, 130, 131, 132, 133, 134, 135, 136, 137, 138, 139, 140, 141, 142, 143, 144, 145, 146, 147, 148, 149, 150, 151, 152, 153, 154, 155, 156, 157, 158, 159, 160, 161, 162, 163, 164, 165, 166, 167, 168, 169, 170, 171, 172, 173, 174, 175, 176, 177, 178, 179, 180, 181, 182, 183, 184, 185, 186, 187, 188, 189, 190, 191, 192, 193, 194, 195, 196, 197, 198, 199, 200, 201, 202, 203, 204, 205, 206, 207, 208, 209, 210, 211, 212, 213, 214, 215, 216, 217, 218, 219, 220, 221, 222, 223, 224, 225, 226, 227, 228, 229, 230, 231, 232, 233, 234, 235, 236, 237, 238, 239, 240, 241, 242, 243, 244, 245, 246, 247, 248, 249, 250, 251, 252, 253, 254, 255, 256, 257, 258, 259, 260, 261, 262, 263, 264]\n",
          "name": "stdout"
        }
      ]
    },
    {
      "metadata": {
        "trusted": true
      },
      "cell_type": "code",
      "source": "user_list = list(range(1,301))\n\nprint(sum(user_list[35:264])) # start index is 35 because user_list[35] = 36\n                              # stop index is 264 because user_list[264] = 265, but last index is not included\nprint(user_list[35:264])",
      "execution_count": 36,
      "outputs": [
        {
          "output_type": "stream",
          "text": "34350\n[36, 37, 38, 39, 40, 41, 42, 43, 44, 45, 46, 47, 48, 49, 50, 51, 52, 53, 54, 55, 56, 57, 58, 59, 60, 61, 62, 63, 64, 65, 66, 67, 68, 69, 70, 71, 72, 73, 74, 75, 76, 77, 78, 79, 80, 81, 82, 83, 84, 85, 86, 87, 88, 89, 90, 91, 92, 93, 94, 95, 96, 97, 98, 99, 100, 101, 102, 103, 104, 105, 106, 107, 108, 109, 110, 111, 112, 113, 114, 115, 116, 117, 118, 119, 120, 121, 122, 123, 124, 125, 126, 127, 128, 129, 130, 131, 132, 133, 134, 135, 136, 137, 138, 139, 140, 141, 142, 143, 144, 145, 146, 147, 148, 149, 150, 151, 152, 153, 154, 155, 156, 157, 158, 159, 160, 161, 162, 163, 164, 165, 166, 167, 168, 169, 170, 171, 172, 173, 174, 175, 176, 177, 178, 179, 180, 181, 182, 183, 184, 185, 186, 187, 188, 189, 190, 191, 192, 193, 194, 195, 196, 197, 198, 199, 200, 201, 202, 203, 204, 205, 206, 207, 208, 209, 210, 211, 212, 213, 214, 215, 216, 217, 218, 219, 220, 221, 222, 223, 224, 225, 226, 227, 228, 229, 230, 231, 232, 233, 234, 235, 236, 237, 238, 239, 240, 241, 242, 243, 244, 245, 246, 247, 248, 249, 250, 251, 252, 253, 254, 255, 256, 257, 258, 259, 260, 261, 262, 263, 264]\n",
          "name": "stdout"
        }
      ]
    },
    {
      "metadata": {
        "trusted": true
      },
      "cell_type": "code",
      "source": "",
      "execution_count": null,
      "outputs": []
    }
  ],
  "metadata": {
    "kernelspec": {
      "name": "python36",
      "display_name": "Python 3.6",
      "language": "python"
    },
    "language_info": {
      "mimetype": "text/x-python",
      "nbconvert_exporter": "python",
      "name": "python",
      "pygments_lexer": "ipython3",
      "version": "3.6.6",
      "file_extension": ".py",
      "codemirror_mode": {
        "version": 3,
        "name": "ipython"
      }
    }
  },
  "nbformat": 4,
  "nbformat_minor": 2
}