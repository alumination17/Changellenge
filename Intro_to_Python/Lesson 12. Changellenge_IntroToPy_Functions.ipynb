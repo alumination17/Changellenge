{
  "cells": [
    {
      "metadata": {
        "collapsed": true
      },
      "cell_type": "markdown",
      "source": "#  Module 12 Functions\n\n"
    },
    {
      "metadata": {
        "trusted": true
      },
      "cell_type": "code",
      "source": "def my_check(flat):\n    if flat.isdigit():\n        if int(flat) > 0 and int(flat) <= 1000:\n            return True\n        else:\n            return False\n    else:\n        return False\n",
      "execution_count": null,
      "outputs": []
    },
    {
      "metadata": {
        "trusted": true
      },
      "cell_type": "code",
      "source": "flat_input = input('Enter flat number for the delivery: ')\n\nif my_check(flat_input) == True:\n    delivery_address = flat_input\n    print('The delivery is schedulet to the flat №:',delivery_address)\n    \nelse:\n    print('Invalid input: Flat number is incorrect, delivery cancelled!')",
      "execution_count": null,
      "outputs": []
    },
    {
      "metadata": {
        "trusted": true
      },
      "cell_type": "code",
      "source": "",
      "execution_count": null,
      "outputs": []
    },
    {
      "metadata": {
        "trusted": true
      },
      "cell_type": "code",
      "source": "",
      "execution_count": null,
      "outputs": []
    },
    {
      "metadata": {},
      "cell_type": "markdown",
      "source": "### Task 1\n\n\n\n\n\n\n"
    },
    {
      "metadata": {
        "trusted": true
      },
      "cell_type": "code",
      "source": "# create a function which finds a solution for equation y = x^2 + 2x + 7\n# find y if x = 2",
      "execution_count": null,
      "outputs": []
    },
    {
      "metadata": {
        "trusted": true
      },
      "cell_type": "code",
      "source": "def equation(x):\n    y = x ** 2 + 2 * x + 7\n    return y\n",
      "execution_count": null,
      "outputs": []
    },
    {
      "metadata": {
        "trusted": true
      },
      "cell_type": "code",
      "source": "print('if x = 2 then y =',equation(2))",
      "execution_count": null,
      "outputs": []
    },
    {
      "metadata": {},
      "cell_type": "markdown",
      "source": "### Task 2\n\n\n\n\n\n\n"
    },
    {
      "metadata": {
        "trusted": true
      },
      "cell_type": "code",
      "source": "def sum_rem():\n    def_list = [] # initialize def_list to append to\n    odd_sum = 0 # initialize odd_sum for summarizing required numbers\n    while True: # while True loop to give a user an opportunity to add as much numbers as needed\n        user_input = input('Enter an integer element to append to a list or \\'q\\' to exit: ')\n        if user_input.isdigit():\n            def_list.append(int(user_input)) # append user_input to empty list\n        # check the condition of quitting the function\n        elif user_input.lower() == 'quit' or user_input.lower().startswith('q') or user_input == ' ': \n            print('\\nQuit detected: stopping program...')\n            break\n        else:\n            print('\\nInvalid input: please enter a valid integer!')# loop stops even though quit condition is not met \n            break\n   \n    for i in def_list:\n        if i % 3 == 1:\n            odd_sum += i\n    print('\\nSum of elements with remainder 1 when divided by 3 is:',odd_sum)\n",
      "execution_count": null,
      "outputs": []
    },
    {
      "metadata": {
        "trusted": true
      },
      "cell_type": "code",
      "source": "#call sum_rem() function\nsum_rem()",
      "execution_count": null,
      "outputs": []
    },
    {
      "metadata": {},
      "cell_type": "markdown",
      "source": "### Task 3\n\n\n\n\n\n\n"
    },
    {
      "metadata": {
        "trusted": true
      },
      "cell_type": "code",
      "source": "# repeat the task and add a restriction of not entering boolean words True or False and not using strings\n\ndef sum_rem():\n    def_list = [] # initialize def_list to append to\n    odd_sum = 0 # initialize odd_sum for summarizing required numbers\n    while True: # while True loop to give a user an opportunity to add as much numbers as needed\n        user_input = input('Enter an integer element to append to a list or \\'q\\' to exit: ')\n        if user_input.isdigit(): # restriction of not using strings\n            if user_input != True or user_input != False: # restriction of not entering boolean words True or False\n                def_list.append(int(user_input)) # append user_input to empty list\n        # check the condition of quitting the function\n        elif user_input.lower() == 'quit' or user_input.lower().startswith('q') or user_input == ' ': \n            print('\\nQuit detected: stopping program...')\n            break\n        else:\n            print('\\nInvalid input: please enter a valid integer!')# loop stops even though quit condition is not met \n            break\n   \n    for i in def_list:\n        if i % 3 == 1:\n            odd_sum += i\n    print('\\nSum of elements with remainder 1 when divided by 3 is:',odd_sum)\n",
      "execution_count": 3,
      "outputs": []
    },
    {
      "metadata": {
        "trusted": true
      },
      "cell_type": "code",
      "source": "#call sum_rem() function\nsum_rem()",
      "execution_count": 4,
      "outputs": [
        {
          "output_type": "stream",
          "name": "stdout",
          "text": "Enter an integer element to append to a list or 'q' to exit: 1\nEnter an integer element to append to a list or 'q' to exit: 4\nEnter an integer element to append to a list or 'q' to exit: 6\nEnter an integer element to append to a list or 'q' to exit: 7\nEnter an integer element to append to a list or 'q' to exit: 9\nEnter an integer element to append to a list or 'q' to exit: 13\nEnter an integer element to append to a list or 'q' to exit: 35\nEnter an integer element to append to a list or 'q' to exit: 13\nEnter an integer element to append to a list or 'q' to exit: 14\nEnter an integer element to append to a list or 'q' to exit: 77\nEnter an integer element to append to a list or 'q' to exit: 24\nEnter an integer element to append to a list or 'q' to exit: Илья\n\nInvalid input: please enter a valid integer!\n\nSum of elements with remainder 1 when divided by 3 is: 38\n"
        }
      ]
    },
    {
      "metadata": {},
      "cell_type": "markdown",
      "source": "### Task 4\n\n\n\n\n\n\n"
    },
    {
      "metadata": {
        "trusted": true
      },
      "cell_type": "code",
      "source": "",
      "execution_count": null,
      "outputs": []
    },
    {
      "metadata": {
        "trusted": true
      },
      "cell_type": "code",
      "source": "",
      "execution_count": null,
      "outputs": []
    },
    {
      "metadata": {
        "trusted": true
      },
      "cell_type": "code",
      "source": "",
      "execution_count": null,
      "outputs": []
    }
  ],
  "metadata": {
    "kernelspec": {
      "name": "python36",
      "display_name": "Python 3.6",
      "language": "python"
    },
    "language_info": {
      "mimetype": "text/x-python",
      "nbconvert_exporter": "python",
      "name": "python",
      "pygments_lexer": "ipython3",
      "version": "3.6.6",
      "file_extension": ".py",
      "codemirror_mode": {
        "version": 3,
        "name": "ipython"
      }
    }
  },
  "nbformat": 4,
  "nbformat_minor": 2
}