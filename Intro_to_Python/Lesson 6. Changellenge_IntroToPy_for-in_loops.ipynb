{
  "cells": [
    {
      "metadata": {
        "collapsed": true
      },
      "cell_type": "markdown",
      "source": "#  Module 6 For-In Loop\n\n\n"
    },
    {
      "metadata": {
        "trusted": true,
        "scrolled": true
      },
      "cell_type": "code",
      "source": "summ = 0\n\nfor i in range(1,51):\n    if i == 29 or i == 31:\n        continue\n    summ += 1\n    print(i)\nprint(summ)",
      "execution_count": 1,
      "outputs": [
        {
          "output_type": "stream",
          "text": "1\n2\n3\n4\n5\n6\n7\n8\n9\n10\n11\n12\n13\n14\n15\n16\n17\n18\n19\n20\n21\n22\n23\n24\n25\n26\n27\n28\n30\n32\n33\n34\n35\n36\n37\n38\n39\n40\n41\n42\n43\n44\n45\n46\n47\n48\n49\n50\n48\n",
          "name": "stdout"
        }
      ]
    },
    {
      "metadata": {
        "trusted": true
      },
      "cell_type": "code",
      "source": "",
      "execution_count": null,
      "outputs": []
    },
    {
      "metadata": {},
      "cell_type": "markdown",
      "source": "### Task 1\n\n\n\n\n"
    },
    {
      "metadata": {
        "trusted": true
      },
      "cell_type": "code",
      "source": "i = 0\nfib0 = 0\nfib1 = 1\n\nfor i in range(2,15):\n    fib = fib0 + fib1\n    fib0 = fib1\n    fib1 = fib\n    print(fib)\nprint(fib)",
      "execution_count": 5,
      "outputs": [
        {
          "output_type": "stream",
          "text": "1\n2\n3\n5\n8\n13\n21\n34\n55\n89\n144\n233\n377\n377\n",
          "name": "stdout"
        }
      ]
    },
    {
      "metadata": {},
      "cell_type": "markdown",
      "source": "### Task 2\n\n\n\n\n\n\n"
    },
    {
      "metadata": {
        "trusted": true
      },
      "cell_type": "code",
      "source": "fac = 1\nnum = 1\n\nfor i in range(1,20):\n    fac *= i\n    print(num,':',fac)\n    num += 1\n    \nprint('Factorial of 19 is',fac)",
      "execution_count": 9,
      "outputs": [
        {
          "output_type": "stream",
          "text": "1 : 1\n2 : 2\n3 : 6\n4 : 24\n5 : 120\n6 : 720\n7 : 5040\n8 : 40320\n9 : 362880\n10 : 3628800\n11 : 39916800\n12 : 479001600\n13 : 6227020800\n14 : 87178291200\n15 : 1307674368000\n16 : 20922789888000\n17 : 355687428096000\n18 : 6402373705728000\n19 : 121645100408832000\nFactorial of 19 is 121645100408832000\n",
          "name": "stdout"
        }
      ]
    },
    {
      "metadata": {},
      "cell_type": "markdown",
      "source": "### Task 3\n\n"
    },
    {
      "metadata": {
        "trusted": true
      },
      "cell_type": "code",
      "source": "summ = 0\nnum = 10\n\nfor i in range(10,30):\n    summ += i\n    print(num,':',summ)\n    num += 1\nprint(summ)",
      "execution_count": 13,
      "outputs": [
        {
          "output_type": "stream",
          "text": "10 : 10\n11 : 21\n12 : 33\n13 : 46\n14 : 60\n15 : 75\n16 : 91\n17 : 108\n18 : 126\n19 : 145\n20 : 165\n21 : 186\n22 : 208\n23 : 231\n24 : 255\n25 : 280\n26 : 306\n27 : 333\n28 : 361\n29 : 390\n390\n",
          "name": "stdout"
        }
      ]
    },
    {
      "metadata": {
        "trusted": true
      },
      "cell_type": "code",
      "source": "",
      "execution_count": null,
      "outputs": []
    },
    {
      "metadata": {
        "trusted": true
      },
      "cell_type": "code",
      "source": "",
      "execution_count": null,
      "outputs": []
    }
  ],
  "metadata": {
    "kernelspec": {
      "name": "python36",
      "display_name": "Python 3.6",
      "language": "python"
    },
    "language_info": {
      "mimetype": "text/x-python",
      "nbconvert_exporter": "python",
      "name": "python",
      "pygments_lexer": "ipython3",
      "version": "3.6.6",
      "file_extension": ".py",
      "codemirror_mode": {
        "version": 3,
        "name": "ipython"
      }
    }
  },
  "nbformat": 4,
  "nbformat_minor": 2
}