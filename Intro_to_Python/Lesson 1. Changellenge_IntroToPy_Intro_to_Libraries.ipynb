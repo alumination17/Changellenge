{
  "cells": [
    {
      "metadata": {},
      "cell_type": "markdown",
      "source": "#  Module 1 Intro to Libraries\n\n"
    },
    {
      "metadata": {
        "trusted": true
      },
      "cell_type": "code",
      "source": "# make a program to find a median of the list\n\nuser_list = [] # initialize an empty list \nuser_input = input('Enter a number to add to a user list or \"q\" to quit: ') # acquire user input\n\nwhile user_input.isdigit(): # while loop runs until user input is a digit\n    user_list.append(int(user_input))\n    user_input = input('Enter a number to add to a user list or \"q\" to quit: ')\nprint('\\nQuit detected: stopping programm') # when user input is other than number while loop quits\n\nif not user_list: # check if the list is not empty\n    print('\\nInvalid input: user_list is empty!')\nelse:\n    user_list.sort() # sort user_list\n\n    print(user_list) # check that the list was compounded properly\n\n    user_len = len(user_list) # acquire length of the user_list\n\n    if user_len % 2 == 1: #if the length of the list is an odd number\n        median = int(user_list[int(user_len/2)]) # as len/2 is always a float number x.5, we round it using int to the nearest integer and call an index\n        print('\\n',median,'is the median of the user_list')\n    elif user_len % 2 == 0: # if the length of the list is an even number\n        median = int((user_list[int(user_len / 2)] + user_list[int(user_len / 2) - 1]) / 2) # median is an integer average of two centric numbers in the list\n        print('\\n',median,'is the median of the user_list')",
      "execution_count": 6,
      "outputs": [
        {
          "output_type": "stream",
          "name": "stdout",
          "text": "Enter a number to add to a user list or \"q\" to quit: 2\nEnter a number to add to a user list or \"q\" to quit: 8\nEnter a number to add to a user list or \"q\" to quit: 5\nEnter a number to add to a user list or \"q\" to quit: 2\nEnter a number to add to a user list or \"q\" to quit: 4\nEnter a number to add to a user list or \"q\" to quit: 5\nEnter a number to add to a user list or \"q\" to quit: 2\nEnter a number to add to a user list or \"q\" to quit: 1\nEnter a number to add to a user list or \"q\" to quit: \n\nQuit detected: stopping programm\n[1, 2, 2, 2, 4, 5, 5, 8]\n\n 3 is the median of the user_list\n"
        }
      ]
    },
    {
      "metadata": {
        "trusted": true
      },
      "cell_type": "code",
      "source": "# make a program to find a mode of the list\n\nuser_list = [] # initialize an empty list \nuser_input = input('Enter a number to add to a user list or \"q\" to quit: ') # acquire user input\n\nwhile user_input.isdigit(): # while loop runs until user input is a digit\n    user_list.append(int(user_input))\n    user_input = input('Enter a number to add to a user list or \"q\" to quit: ')\nprint('\\nQuit detected: stopping programm') # when user input is other than number while loop quits\n\nif not user_list: # check if the list is not empty\n    print('\\nInvalid input: user_list is empty!')\nelse:\n    user_list.sort() # sort user_list\n    print('user_list as per follows:',user_list,'\\n') # check that the list was compounded properly\n    user_dict = {} # initialize empty dictionary\n    \n    for number in user_list: # iterate thru each number in the list\n        user_count = user_list.count(number) # write count number of each input in a variable\n        user_dict[number] = user_count # write {input number:count number} tuples in a dict\n    print(user_dict) # check the compounded dictionary where keys: input numbers, values: number of occurences \n\n    mode_value = max(user_dict.values()) # identify maximum value number in the dict\n\n    for number, value in user_dict.items(): # iterate through {key:values} tuples to find a key (mode) which corresponds to the max value  \n        if value == mode_value:\n            print(number, 'is a mode of the user_list')",
      "execution_count": 18,
      "outputs": [
        {
          "output_type": "stream",
          "name": "stdout",
          "text": "Enter a number to add to a user list or \"q\" to quit: 2\nEnter a number to add to a user list or \"q\" to quit: 8\nEnter a number to add to a user list or \"q\" to quit: 5\nEnter a number to add to a user list or \"q\" to quit: 2\nEnter a number to add to a user list or \"q\" to quit: 4\nEnter a number to add to a user list or \"q\" to quit: 5\nEnter a number to add to a user list or \"q\" to quit: 2\nEnter a number to add to a user list or \"q\" to quit: 1\nEnter a number to add to a user list or \"q\" to quit: \n\nQuit detected: stopping programm\nuser_list as per follows: [1, 2, 2, 2, 4, 5, 5, 8] \n\n{1: 1, 2: 3, 4: 1, 5: 2, 8: 1}\n2 is a mode of the user_list\n"
        }
      ]
    },
    {
      "metadata": {
        "trusted": true
      },
      "cell_type": "code",
      "source": "# test\n\nuser_list = [2,8,5,2,4,5,2,1]\n\nfor number in user_list:\n    user_count = user_list.count(number)\n    print('For',number,'No of occurences is',user_count)",
      "execution_count": 10,
      "outputs": [
        {
          "output_type": "stream",
          "text": "For 2 No of occurences is 3\nFor 8 No of occurences is 1\nFor 5 No of occurences is 2\nFor 2 No of occurences is 3\nFor 4 No of occurences is 1\nFor 5 No of occurences is 2\nFor 2 No of occurences is 3\nFor 1 No of occurences is 1\n",
          "name": "stdout"
        }
      ]
    },
    {
      "metadata": {
        "trusted": true
      },
      "cell_type": "code",
      "source": "# test\nuser_dict = {} # initialize empty dictionary\nuser_list = [2,8,5,2,4,5,2,1]\n\nfor number in user_list: # iterate thru each number in the list\n    user_count = user_list.count(number) # write count number of each input in a variable\n    user_dict[number] = user_count # write {number:count} tuples in a dict\nprint(user_dict)\n\nmode_value = max(user_dict.values()) # identify maximum value number in the dict\n\nfor number, value in user_dict.items(): # iterate through {key:values} tuples to find a key (mode) which corresponds to the max value  \n    if value == mode_value:\n        print(number, 'is a mode of the user_list')",
      "execution_count": 14,
      "outputs": [
        {
          "output_type": "stream",
          "text": "{2: 3, 8: 1, 5: 2, 4: 1, 1: 1}\n2 is a mode of the user_list\n",
          "name": "stdout"
        }
      ]
    },
    {
      "metadata": {
        "trusted": true
      },
      "cell_type": "code",
      "source": "# test\nuser_list = [2,8,5,2,4,5,2,1]\nuser_list.sort() # sort user_list\n\nprint(user_list) # check that the list was compounded properly\nlist_len = len(user_list)\nprint(list_len\n     )",
      "execution_count": 7,
      "outputs": [
        {
          "output_type": "stream",
          "text": "[1, 2, 2, 2, 4, 5, 5, 8]\n8\n",
          "name": "stdout"
        }
      ]
    },
    {
      "metadata": {
        "trusted": true
      },
      "cell_type": "code",
      "source": "# find interquartile range of the list\n\nimport numpy as np\nfrom scipy.stats import iqr\n\na = np.array([2,8,5,2,4,5,2,1])\niqr(a)\n",
      "execution_count": 20,
      "outputs": [
        {
          "output_type": "execute_result",
          "execution_count": 20,
          "data": {
            "text/plain": "3.0"
          },
          "metadata": {}
        }
      ]
    },
    {
      "metadata": {
        "trusted": true
      },
      "cell_type": "code",
      "source": "# find sandard deviation of the list\nimport statistics as st\nimport math\n\nuser_list = [1,1,1,1,1,2,2,3,3,10]\nstdev = st.stdev(user_list)\n\nprint('Standard deviation of user_list =',stdev)\n",
      "execution_count": 24,
      "outputs": [
        {
          "output_type": "stream",
          "text": "Standard deviation of user_list = 2.758824226207808\n",
          "name": "stdout"
        }
      ]
    },
    {
      "metadata": {
        "trusted": true
      },
      "cell_type": "code",
      "source": "# test\n\nimport math\n# STEP 1 - find average\n\naverage_sum = 0\nuser_list = [1,1,1,1,1,2,2,3,3,10]\nuser_len = len(user_list)\n\nfor i in user_list:\n    average_sum += i\naverage = average_sum / user_len\nprint(average,'is average of the user_list')\n    \n# STEP 2 - calculate Xi - Xaverage for each X\n\ndistr_list = []\n\nfor number in user_list:\n    distr = number - average\n    distr_list.append(distr)\nprint(distr_list)\n\n# STEP 3 - square each result in a distr_list\n\ni = 0\nfor num in distr_list:\n    num **= 2\n    distr_list[i] = num\n    i += 1\nprint(distr_list)\n\n# STEP 4 - find a sum\n\nsumm = 0\n \nfor i in distr_list:\n    summ += i\nprint(summ)\n\n# STEP 5 - divide summ by number of elements and round it\n\nstdev = summ / user_len\nprint(stdev)\n\nb = round((summ / user_len),1)\nprint(b)\n\n# find a square root of a num",
      "execution_count": 34,
      "outputs": [
        {
          "output_type": "stream",
          "text": "2.5 is average of the user_list\n[-1.5, -1.5, -1.5, -1.5, -1.5, -0.5, -0.5, 0.5, 0.5, 7.5]\n[2.25, 2.25, 2.25, 2.25, 2.25, 0.25, 0.25, 0.25, 0.25, 56.25]\n68.5\n6.85\n6.8\n",
          "name": "stdout"
        }
      ]
    },
    {
      "metadata": {},
      "cell_type": "markdown",
      "source": "### Task 1\n\n\n\n\n\n\n"
    },
    {
      "metadata": {
        "trusted": true
      },
      "cell_type": "code",
      "source": "!pip install numpy",
      "execution_count": 1,
      "outputs": [
        {
          "output_type": "stream",
          "text": "Requirement already satisfied: numpy in /home/nbuser/anaconda3_501/lib/python3.6/site-packages (1.16.2)\n\u001b[33mWARNING: You are using pip version 19.3.1; however, version 20.2.2 is available.\nYou should consider upgrading via the 'pip install --upgrade pip' command.\u001b[0m\n",
          "name": "stdout"
        }
      ]
    },
    {
      "metadata": {
        "trusted": true
      },
      "cell_type": "code",
      "source": "import munpy as np",
      "execution_count": null,
      "outputs": []
    },
    {
      "metadata": {},
      "cell_type": "markdown",
      "source": "### Task 2\n\n\n\n\n\n\n"
    },
    {
      "metadata": {
        "trusted": true
      },
      "cell_type": "code",
      "source": "",
      "execution_count": null,
      "outputs": []
    },
    {
      "metadata": {
        "trusted": true
      },
      "cell_type": "code",
      "source": "",
      "execution_count": null,
      "outputs": []
    },
    {
      "metadata": {},
      "cell_type": "markdown",
      "source": "### Task 3\n\n\n\n\n\n\n"
    },
    {
      "metadata": {
        "trusted": true
      },
      "cell_type": "code",
      "source": "",
      "execution_count": null,
      "outputs": []
    },
    {
      "metadata": {
        "trusted": true
      },
      "cell_type": "code",
      "source": "",
      "execution_count": null,
      "outputs": []
    },
    {
      "metadata": {},
      "cell_type": "markdown",
      "source": "### Task 4\n\n\n\n\n\n\n"
    },
    {
      "metadata": {
        "trusted": true
      },
      "cell_type": "code",
      "source": "",
      "execution_count": null,
      "outputs": []
    },
    {
      "metadata": {
        "trusted": true
      },
      "cell_type": "code",
      "source": "",
      "execution_count": null,
      "outputs": []
    }
  ],
  "metadata": {
    "kernelspec": {
      "name": "python36",
      "display_name": "Python 3.6",
      "language": "python"
    },
    "language_info": {
      "mimetype": "text/x-python",
      "nbconvert_exporter": "python",
      "name": "python",
      "pygments_lexer": "ipython3",
      "version": "3.6.6",
      "file_extension": ".py",
      "codemirror_mode": {
        "version": 3,
        "name": "ipython"
      }
    }
  },
  "nbformat": 4,
  "nbformat_minor": 1
}