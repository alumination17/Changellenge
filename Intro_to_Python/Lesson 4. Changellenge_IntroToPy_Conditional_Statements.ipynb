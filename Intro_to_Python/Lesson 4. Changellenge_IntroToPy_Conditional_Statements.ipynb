{
  "cells": [
    {
      "metadata": {
        "collapsed": true
      },
      "cell_type": "markdown",
      "source": "#  Module 4 Conditional Statements  \n\n"
    },
    {
      "metadata": {
        "trusted": true
      },
      "cell_type": "code",
      "source": "number  = ",
      "execution_count": null,
      "outputs": []
    },
    {
      "metadata": {
        "trusted": true
      },
      "cell_type": "code",
      "source": "and\nor\nnot\n",
      "execution_count": null,
      "outputs": []
    },
    {
      "metadata": {
        "trusted": true
      },
      "cell_type": "code",
      "source": "x = float(input('Enter x: '))\ny = float(input('Enter y: '))\n\nif (x > 0) or (y > 0):\n    print('At least one of the numbers is positive')",
      "execution_count": null,
      "outputs": []
    },
    {
      "metadata": {
        "trusted": true
      },
      "cell_type": "code",
      "source": "x = float(input('Enter x: '))\ny = float(input('Enter y: '))\n\nif (x > 0) and (y > 0):\n    print('Both numbers are positive')",
      "execution_count": null,
      "outputs": []
    },
    {
      "metadata": {
        "trusted": true
      },
      "cell_type": "code",
      "source": "x = float(input('Enter operation amount: '))\nmean_sum = 2500\nif (x >= 1000):\n    if (x >= mean_sum):\n        print('PIN required\\nTotal amount is greater than average sum')\n    else:\n        print('PIN required\\nTotal amount is less than average sum')\nelse:\n    if (x >= mean_sum):\n        print('PIN not required\\nTotal amount is greater than average sum')\n    else:\n        print('PIN not required\\nTotal amount is less than average sum')",
      "execution_count": null,
      "outputs": []
    },
    {
      "metadata": {
        "trusted": true
      },
      "cell_type": "markdown",
      "source": "#  Module 4 Practice \n\n\n"
    },
    {
      "metadata": {},
      "cell_type": "markdown",
      "source": "### Task 1  \n\n\n"
    },
    {
      "metadata": {
        "trusted": true
      },
      "cell_type": "code",
      "source": "year_test = float(input('Enter a year to test: '))\n\nwhile True: \nif year_test % 4 == 0 and year_test % 100 != 0:\n    print('1')\nelif year_test % 400 == 0:\n    print('1')\n",
      "execution_count": null,
      "outputs": []
    },
    {
      "metadata": {},
      "cell_type": "markdown",
      "source": "### Task 2 \n\n\n\n"
    },
    {
      "metadata": {
        "trusted": true
      },
      "cell_type": "code",
      "source": "a = float(input('Enter length of \\'a\\' side: '))\nb = float(input('Enter length of \\'b\\' side: '))\nc = float(input('Enter length of \\'c\\' side: '))\n\nif a + b > c and a + c > b and b + c > a:\n    print('Triangle exists')\n",
      "execution_count": 9,
      "outputs": [
        {
          "output_type": "stream",
          "name": "stdout",
          "text": "Enter length of 'a' side: 89\nEnter length of 'b' side: 122\nEnter length of 'c' side: 32\n"
        }
      ]
    },
    {
      "metadata": {
        "trusted": true
      },
      "cell_type": "code",
      "source": "a = float(input('Enter length of \\'a\\' side: '))\nb = float(input('Enter length of \\'b\\' side: '))\nc = float(input('Enter length of \\'c\\' side: '))\n\nif a + b > c:\n    print('Triangle exists')\nelif a + c > b:\n    print('Triangle exists')\nelif b + c > a:\n    print('Triangle exists')\n\n\n\n",
      "execution_count": 5,
      "outputs": [
        {
          "output_type": "stream",
          "name": "stdout",
          "text": "Enter length of 'a' side: 89\nEnter length of 'b' side: 122\nEnter length of 'c' side: 32\nTriangle exists\n"
        }
      ]
    },
    {
      "metadata": {},
      "cell_type": "markdown",
      "source": "### Task 3\n\n"
    },
    {
      "metadata": {
        "trusted": true
      },
      "cell_type": "code",
      "source": "a = float(input('Enter 23 as \\'a\\': '))\nb = float(input('Enter 11 as \\'b\\': '))\nc = float(input('Enter 7 as \\'c\\': '))\n\nleast_num = 0 \ngreat_num = 0\nprint()\nif a < b and a < c:\n    if b < c:\n        great_num = c\n        print('greatest number is',c)\n    else:\n        great_num = b\n        print('greatest number is',b)\n    least_num = a\n    print('least number is',a)\n    \nelif b < a and b < c:\n    if c < a:\n        great_num = a\n        print('greatest number is',a)\n    else:\n        great_num = c\n        print('greatest number is',c)\n    least_num = b\n    print('least number is',b)\nelse:\n    if a < b:\n        great_num = b\n        print('greatest number is',b)\n    else:\n        great_num = a\n        print('greatest number is',a)\n    least_num = c\n    print('least number is',c)\n    \nremain = great_num % least_num\n\nprint('Remainder is',remain)",
      "execution_count": 11,
      "outputs": [
        {
          "output_type": "stream",
          "name": "stdout",
          "text": "Enter 23 as 'a': 23\nEnter 11 as 'b': 11\nEnter 7 as 'c': 7\n\ngreatest number is 23.0\nleast number is 7.0\nRemainder is 2.0\n"
        }
      ]
    },
    {
      "metadata": {
        "trusted": true
      },
      "cell_type": "code",
      "source": "",
      "execution_count": null,
      "outputs": []
    }
  ],
  "metadata": {
    "kernelspec": {
      "name": "python36",
      "display_name": "Python 3.6",
      "language": "python"
    },
    "language_info": {
      "mimetype": "text/x-python",
      "nbconvert_exporter": "python",
      "name": "python",
      "pygments_lexer": "ipython3",
      "version": "3.6.6",
      "file_extension": ".py",
      "codemirror_mode": {
        "version": 3,
        "name": "ipython"
      }
    }
  },
  "nbformat": 4,
  "nbformat_minor": 2
}