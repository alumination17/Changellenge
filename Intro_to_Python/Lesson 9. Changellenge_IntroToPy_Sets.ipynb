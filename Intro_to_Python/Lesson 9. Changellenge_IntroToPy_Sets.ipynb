{
  "cells": [
    {
      "metadata": {
        "collapsed": true
      },
      "cell_type": "markdown",
      "source": "#  Module 9 Sets\n\n"
    },
    {
      "metadata": {},
      "cell_type": "markdown",
      "source": ""
    },
    {
      "metadata": {
        "trusted": true
      },
      "cell_type": "code",
      "source": "num_set = {1,2,4,12,36}",
      "execution_count": 2,
      "outputs": []
    },
    {
      "metadata": {
        "trusted": true
      },
      "cell_type": "code",
      "source": "print(num_set)",
      "execution_count": 3,
      "outputs": [
        {
          "output_type": "stream",
          "text": "{1, 2, 4, 36, 12}\n",
          "name": "stdout"
        }
      ]
    },
    {
      "metadata": {
        "trusted": true
      },
      "cell_type": "code",
      "source": "num_set = {1,2,4,12,6,6,6,6,36}",
      "execution_count": 4,
      "outputs": []
    },
    {
      "metadata": {
        "trusted": true
      },
      "cell_type": "code",
      "source": "print(num_set)",
      "execution_count": 5,
      "outputs": [
        {
          "output_type": "stream",
          "text": "{1, 2, 4, 36, 6, 12}\n",
          "name": "stdout"
        }
      ]
    },
    {
      "metadata": {
        "trusted": true
      },
      "cell_type": "code",
      "source": "for num in num_set:\n    print(num)",
      "execution_count": 6,
      "outputs": [
        {
          "output_type": "stream",
          "text": "1\n2\n4\n36\n6\n12\n",
          "name": "stdout"
        }
      ]
    },
    {
      "metadata": {
        "trusted": true
      },
      "cell_type": "code",
      "source": "num_set.add(7)\nprint(num_set)",
      "execution_count": 7,
      "outputs": [
        {
          "output_type": "stream",
          "text": "{1, 2, 4, 36, 6, 7, 12}\n",
          "name": "stdout"
        }
      ]
    },
    {
      "metadata": {
        "trusted": true
      },
      "cell_type": "code",
      "source": "num_set.discard(7)",
      "execution_count": 8,
      "outputs": []
    },
    {
      "metadata": {
        "trusted": true
      },
      "cell_type": "code",
      "source": "print(num_set)",
      "execution_count": 9,
      "outputs": [
        {
          "output_type": "stream",
          "text": "{1, 2, 4, 36, 6, 12}\n",
          "name": "stdout"
        }
      ]
    },
    {
      "metadata": {
        "trusted": true
      },
      "cell_type": "code",
      "source": "print(list(num_set))",
      "execution_count": 10,
      "outputs": [
        {
          "output_type": "stream",
          "text": "[1, 2, 4, 36, 6, 12]\n",
          "name": "stdout"
        }
      ]
    },
    {
      "metadata": {
        "trusted": true
      },
      "cell_type": "code",
      "source": "A = {1,2,4,12,247,488}\nB = {1,2,4,12,6,6,6,6,36}\nA.union(B)",
      "execution_count": 15,
      "outputs": [
        {
          "output_type": "execute_result",
          "execution_count": 15,
          "data": {
            "text/plain": "{1, 2, 4, 6, 12, 36, 247, 488}"
          },
          "metadata": {}
        }
      ]
    },
    {
      "metadata": {
        "trusted": true
      },
      "cell_type": "code",
      "source": "A.intersection(B)",
      "execution_count": 17,
      "outputs": [
        {
          "output_type": "execute_result",
          "execution_count": 17,
          "data": {
            "text/plain": "{1, 2, 4, 12}"
          },
          "metadata": {}
        }
      ]
    },
    {
      "metadata": {
        "trusted": true
      },
      "cell_type": "code",
      "source": "C = {1}\nC.issubset(A)",
      "execution_count": 18,
      "outputs": [
        {
          "output_type": "execute_result",
          "execution_count": 18,
          "data": {
            "text/plain": "True"
          },
          "metadata": {}
        }
      ]
    },
    {
      "metadata": {},
      "cell_type": "markdown",
      "source": "### Task 1\n\n\n\n\n\n\n"
    },
    {
      "metadata": {
        "trusted": true
      },
      "cell_type": "code",
      "source": "user_list = list(range(1,51))\nuser_set = set(user_list)\nuser_set.add(21)\nuser_set.add(24)\nuser_set.add(29)\nuser_set.add(53)\nuser_set.add(104)\n\nprint(user_set)\nprint(len(user_set))",
      "execution_count": 22,
      "outputs": [
        {
          "output_type": "stream",
          "text": "{1, 2, 3, 4, 5, 6, 7, 8, 9, 10, 11, 12, 13, 14, 15, 16, 17, 18, 19, 20, 21, 22, 23, 24, 25, 26, 27, 28, 29, 30, 31, 32, 33, 34, 35, 36, 37, 38, 39, 40, 41, 42, 43, 44, 45, 46, 47, 48, 49, 50, 53, 104}\n52\n",
          "name": "stdout"
        }
      ]
    },
    {
      "metadata": {},
      "cell_type": "markdown",
      "source": "### Task 2\n\n\n\n\n"
    },
    {
      "metadata": {
        "trusted": true
      },
      "cell_type": "code",
      "source": "user_list = list(range(1,301))\neven_list = []\nfor i in range(115,230):\n    if i % 2 == 0:\n        even_list.append(i)\n\nuser_set = set(user_list)\neven_set = set(even_list)\nunion_set = user_set.union(even_set)\n\nprint(len(union_set))",
      "execution_count": 24,
      "outputs": [
        {
          "output_type": "stream",
          "text": "300\n",
          "name": "stdout"
        }
      ]
    },
    {
      "metadata": {},
      "cell_type": "markdown",
      "source": "### Task 3\n\n\n\n\n"
    },
    {
      "metadata": {
        "trusted": true
      },
      "cell_type": "code",
      "source": "user_list = list(range(1,301))\neven_list = []\nfor i in range(140,201):\n    if i % 2 == 0:\n        even_list.append(i)\n\nuser_set = set(user_list)\neven_set = set(even_list)\nintersect_set = user_set.intersection(even_set)\n\nprint(len(intersect_set))",
      "execution_count": 25,
      "outputs": [
        {
          "output_type": "stream",
          "text": "31\n",
          "name": "stdout"
        }
      ]
    },
    {
      "metadata": {
        "trusted": true
      },
      "cell_type": "code",
      "source": "",
      "execution_count": null,
      "outputs": []
    }
  ],
  "metadata": {
    "kernelspec": {
      "name": "python36",
      "display_name": "Python 3.6",
      "language": "python"
    },
    "language_info": {
      "mimetype": "text/x-python",
      "nbconvert_exporter": "python",
      "name": "python",
      "pygments_lexer": "ipython3",
      "version": "3.6.6",
      "file_extension": ".py",
      "codemirror_mode": {
        "version": 3,
        "name": "ipython"
      }
    }
  },
  "nbformat": 4,
  "nbformat_minor": 2
}