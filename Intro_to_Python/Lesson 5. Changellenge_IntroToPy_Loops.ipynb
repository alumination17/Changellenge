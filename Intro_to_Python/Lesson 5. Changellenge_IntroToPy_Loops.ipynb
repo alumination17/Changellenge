{
  "cells": [
    {
      "metadata": {},
      "cell_type": "markdown",
      "source": "#  Module 5 While Loop\n\n"
    },
    {
      "metadata": {
        "trusted": true
      },
      "cell_type": "code",
      "source": "daily_sales = 0\n\nx = -1\n\nwhile x!= 0:\n    x = float(input('Enter purchase total: '))\n    \n    if x < 0:\n        continue\n    elif x > 100000:\n        break\n    daily_sales += x\n    \nprint(daily_sales)",
      "execution_count": null,
      "outputs": []
    },
    {
      "metadata": {},
      "cell_type": "markdown",
      "source": "### Task 1\n\n\n"
    },
    {
      "metadata": {
        "trusted": true
      },
      "cell_type": "code",
      "source": "summ = 0\n\nfor num in range(101):\n    if num % 2 == 0:\n        summ += num\nprint(summ)\n        ",
      "execution_count": 1,
      "outputs": [
        {
          "output_type": "stream",
          "text": "2550\n",
          "name": "stdout"
        }
      ]
    },
    {
      "metadata": {
        "trusted": true
      },
      "cell_type": "code",
      "source": "# decision from the lecturer\n\nsumm = 0\ni = 1\n\nwhile i <= 100: # while loop runs through 1 to 100 including\n    if i % 2 == 0:\n        summ += i # if the number is even, it is added to summ\n    i += 1 # adds 1 to i every iteration\nprint(summ)",
      "execution_count": 3,
      "outputs": [
        {
          "output_type": "stream",
          "text": "2550\n",
          "name": "stdout"
        }
      ]
    },
    {
      "metadata": {},
      "cell_type": "markdown",
      "source": "### Task 2\n\n\n\n"
    },
    {
      "metadata": {
        "trusted": true
      },
      "cell_type": "code",
      "source": "from math import sqrt # importing sqrt from math library\n\nn = int(input('Enter a number to check: ')) # getting user input\ni = 2 #initialize a variable\nlimit = int(sqrt(n)) # limit is defined as the square root from the mentioned number \n                    #as there is a need to check only till square root \n\nif n < 2:\n    print('Enter a number greater than 2!')\n    quit()\nelif n == 2:\n    print('2 is prime number')\n    quit()\n\nwhile i <= limit: \n    if n % i == 0: # if a number is divided to a separator w/out remainder, it is a composite number\n        print(n,'is a composite number')\n        i += 1",
      "execution_count": null,
      "outputs": []
    },
    {
      "metadata": {
        "trusted": true
      },
      "cell_type": "code",
      "source": "from math import sqrt # importing sqrt from math library\n\nn = int(input('Enter a number to check: ')) # getting user input\ni = 2 #initialize a variable\nlimit = int(sqrt(n)) # limit is defined as the square root from the mentioned number \n                    #as there is a need to check only till square root \nflag = True\n\nif n <= 0:\n    print('Enter a number greater than 2!')\n    quit()\nelif n == 1:\n    print('2 is prime number')\n    quit()\nelif n == 2:\n    print('2 is prime number')\n    quit()\n\nwhile i <= limit:\n    if n % i == 0:\n        i += 1\n        flag = False\nprint('The number is prime:',flag)",
      "execution_count": 1,
      "outputs": [
        {
          "output_type": "stream",
          "name": "stdout",
          "text": "Enter a number to check: 373\n"
        },
        {
          "output_type": "error",
          "ename": "KeyboardInterrupt",
          "evalue": "",
          "traceback": [
            "\u001b[0;31m---------------------------------------------------------------------------\u001b[0m",
            "\u001b[0;31mKeyboardInterrupt\u001b[0m                         Traceback (most recent call last)",
            "\u001b[0;32m<ipython-input-1-06c1b78b9641>\u001b[0m in \u001b[0;36m<module>\u001b[0;34m\u001b[0m\n\u001b[1;32m     17\u001b[0m     \u001b[0mquit\u001b[0m\u001b[0;34m(\u001b[0m\u001b[0;34m)\u001b[0m\u001b[0;34m\u001b[0m\u001b[0m\n\u001b[1;32m     18\u001b[0m \u001b[0;34m\u001b[0m\u001b[0m\n\u001b[0;32m---> 19\u001b[0;31m \u001b[0;32mwhile\u001b[0m \u001b[0mi\u001b[0m \u001b[0;34m<=\u001b[0m \u001b[0mlimit\u001b[0m\u001b[0;34m:\u001b[0m\u001b[0;34m\u001b[0m\u001b[0m\n\u001b[0m\u001b[1;32m     20\u001b[0m     \u001b[0;32mif\u001b[0m \u001b[0mn\u001b[0m \u001b[0;34m%\u001b[0m \u001b[0mi\u001b[0m \u001b[0;34m==\u001b[0m \u001b[0;36m0\u001b[0m\u001b[0;34m:\u001b[0m\u001b[0;34m\u001b[0m\u001b[0m\n\u001b[1;32m     21\u001b[0m         \u001b[0mi\u001b[0m \u001b[0;34m+=\u001b[0m \u001b[0;36m1\u001b[0m\u001b[0;34m\u001b[0m\u001b[0m\n",
            "\u001b[0;31mKeyboardInterrupt\u001b[0m: "
          ]
        }
      ]
    },
    {
      "metadata": {
        "trusted": true
      },
      "cell_type": "code",
      "source": "# decision from the lecturer\n\na = float(input('Please enter a number:'))\n\nflag = False # flag to indicate whether the variable a is divided to i w/out remainder\n             # False by default\n\n# first check if the input number is not 0 or 1 (those numbers are neither prime nor composite)\nif a < 2:\n    print('The number is neither prime nor composite!')\n    \n# check if the input is not equal to 2\nelif a == 2:\n    print('Number 2 is already a prime number!')\n    \ni = 2 # initialize a variable\nwhile i < a:\n    if a % i == 0:\n        flag = True\n    i += 1\n        \nif flag == True:\n    print(a,'is composed number:',flag)\nelse:\n    print(a,'is prime number')",
      "execution_count": 9,
      "outputs": [
        {
          "output_type": "stream",
          "name": "stdout",
          "text": "Please enter a number:1493\n1493.0 is prime number\n"
        }
      ]
    },
    {
      "metadata": {},
      "cell_type": "markdown",
      "source": "### Task 3\n\n\n\n"
    },
    {
      "metadata": {
        "trusted": true
      },
      "cell_type": "code",
      "source": "bank_amount = 1000 # indicates starting amount\nlimit = 2000\npercent = 0.055\nyear = 0\n\nwhile bank_amount <= limit:\n    bank_amount *= (1 + percent)\n    year += 1\nprint('Bank deposit will exceed 2000 RUB in',year,'years')",
      "execution_count": 10,
      "outputs": [
        {
          "output_type": "stream",
          "text": "Bank deposit will exceed 2000 RUB in 13 years\n",
          "name": "stdout"
        }
      ]
    },
    {
      "metadata": {
        "trusted": true
      },
      "cell_type": "code",
      "source": "",
      "execution_count": null,
      "outputs": []
    }
  ],
  "metadata": {
    "kernelspec": {
      "name": "python36",
      "display_name": "Python 3.6",
      "language": "python"
    },
    "language_info": {
      "mimetype": "text/x-python",
      "nbconvert_exporter": "python",
      "name": "python",
      "pygments_lexer": "ipython3",
      "version": "3.6.6",
      "file_extension": ".py",
      "codemirror_mode": {
        "version": 3,
        "name": "ipython"
      }
    }
  },
  "nbformat": 4,
  "nbformat_minor": 2
}