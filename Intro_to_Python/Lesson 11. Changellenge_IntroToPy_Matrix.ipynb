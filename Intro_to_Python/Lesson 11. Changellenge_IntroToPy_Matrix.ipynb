{
  "cells": [
    {
      "metadata": {
        "collapsed": true
      },
      "cell_type": "markdown",
      "source": "#  Module 11 Matrix (Two-Dimensional Arrays)\n\n"
    },
    {
      "metadata": {
        "trusted": true
      },
      "cell_type": "code",
      "source": "row1 = [1,2,3,4]\nrow2 = [5,7,9,4]\nrow3 = [13,16,18,4]",
      "execution_count": null,
      "outputs": []
    },
    {
      "metadata": {
        "trusted": true
      },
      "cell_type": "code",
      "source": "# matrix can be defined as a list of lists \nmatrix_1 = [row1,row2,row3]\nprint(matrix_1)",
      "execution_count": null,
      "outputs": []
    },
    {
      "metadata": {
        "trusted": true
      },
      "cell_type": "code",
      "source": "# to refer to the list within two-dimensional array, use index\nprint(matrix_1[0])\n\n# to retrieve the exact element from the matrix, use element index right after list index\n# first index is the index of a list within matrix, followed by index of the element in that list\nprint('First element of the 3d row in a matrix is',matrix_1[2][0])",
      "execution_count": null,
      "outputs": []
    },
    {
      "metadata": {
        "trusted": true
      },
      "cell_type": "code",
      "source": "for row in matrix_1:\n    print(row)",
      "execution_count": null,
      "outputs": []
    },
    {
      "metadata": {
        "trusted": true
      },
      "cell_type": "code",
      "source": "for row in matrix_1:\n    for element in row:\n        print(element)",
      "execution_count": null,
      "outputs": []
    },
    {
      "metadata": {
        "trusted": true
      },
      "cell_type": "code",
      "source": "# get the sum of even numbers in the array\neven_sum = 0\nfor row in matrix_1:\n    for element in row:\n        if element % 2 == 0:\n            even_sum += element\nprint('Sum of even numbers is:',even_sum)",
      "execution_count": null,
      "outputs": []
    },
    {
      "metadata": {
        "trusted": true
      },
      "cell_type": "code",
      "source": "matrix_2 = []\nrow_num = 1\nn = input('How many rows will be in the array: ')\nif n.isdigit():\n    for i in range(int(n)):\n        print('\\nHow many elements will be in row',row_num,': ')\n        m = input()\n        row_num += 1\n        row = []\n        if m.isdigit():\n            for i in range(int(m)):\n                \n                positive = input('Enter a positive integer: ')\n                row.append(int(positive))\n            matrix_2.append(row)  \n\nfor row in matrix_2:\n    print(matrix_2)            ",
      "execution_count": null,
      "outputs": []
    },
    {
      "metadata": {
        "trusted": true
      },
      "cell_type": "code",
      "source": "",
      "execution_count": null,
      "outputs": []
    },
    {
      "metadata": {
        "trusted": true
      },
      "cell_type": "code",
      "source": "",
      "execution_count": null,
      "outputs": []
    },
    {
      "metadata": {
        "trusted": true
      },
      "cell_type": "code",
      "source": "",
      "execution_count": null,
      "outputs": []
    },
    {
      "metadata": {},
      "cell_type": "markdown",
      "source": "### Task 1\n\n\n\n\n\n\n"
    },
    {
      "metadata": {
        "trusted": true
      },
      "cell_type": "code",
      "source": "row1 = []\nrow2 = []\nrow3 = []\n\nfor i in range(1,27):\n    row1.append(i)\nprint('row1',row1)\n\nfor i in range(27,53):\n    row2.append(i)\nprint('row2',row2)\n\nfor i in range(53,82):\n    row3.append(i)\nprint('row3',row3)\n",
      "execution_count": 3,
      "outputs": [
        {
          "output_type": "stream",
          "text": "row1 [1, 2, 3, 4, 5, 6, 7, 8, 9, 10, 11, 12, 13, 14, 15, 16, 17, 18, 19, 20, 21, 22, 23, 24, 25, 26]\nrow2 [27, 28, 29, 30, 31, 32, 33, 34, 35, 36, 37, 38, 39, 40, 41, 42, 43, 44, 45, 46, 47, 48, 49, 50, 51, 52]\nrow3 [53, 54, 55, 56, 57, 58, 59, 60, 61, 62, 63, 64, 65, 66, 67, 68, 69, 70, 71, 72, 73, 74, 75, 76, 77, 78, 79, 80, 81]\n",
          "name": "stdout"
        }
      ]
    },
    {
      "metadata": {
        "trusted": true
      },
      "cell_type": "code",
      "source": "a = [row1, row2, row3]\n\nprint('element [2][23] is:',a[2][23])",
      "execution_count": 4,
      "outputs": [
        {
          "output_type": "stream",
          "text": "element [2][23] is: 76\n",
          "name": "stdout"
        }
      ]
    },
    {
      "metadata": {},
      "cell_type": "markdown",
      "source": "### Task 2\n\n\n\n\n\n\n"
    },
    {
      "metadata": {
        "trusted": true
      },
      "cell_type": "code",
      "source": "row1 = []\nrow2 = []\nrow3 = []\nrow4 = []\nrow5 = []\n\nfor i in range(15):\n    row1.append(i)\n    row2.append(i)\n    row3.append(i)\n    row4.append(i)\n    row5.append(i)\n    \nb = [row1,row2,row3,row4,row5]\n\nprint(b\n     )",
      "execution_count": 12,
      "outputs": [
        {
          "output_type": "stream",
          "text": "[[0, 1, 2, 3, 4, 5, 6, 7, 8, 9, 10, 11, 12, 13, 14], [0, 1, 2, 3, 4, 5, 6, 7, 8, 9, 10, 11, 12, 13, 14], [0, 1, 2, 3, 4, 5, 6, 7, 8, 9, 10, 11, 12, 13, 14], [0, 1, 2, 3, 4, 5, 6, 7, 8, 9, 10, 11, 12, 13, 14], [0, 1, 2, 3, 4, 5, 6, 7, 8, 9, 10, 11, 12, 13, 14]]\n",
          "name": "stdout"
        }
      ]
    },
    {
      "metadata": {
        "trusted": true
      },
      "cell_type": "code",
      "source": "for row in b:\n    for i in row:\n        row[i] = row[i] * 2\nprint('doubled \\'b\\' has to be like:\\n',b)\n        ",
      "execution_count": 13,
      "outputs": [
        {
          "output_type": "stream",
          "text": "doubled 'b' has to be like:\n [[0, 2, 4, 6, 8, 10, 12, 14, 16, 18, 20, 22, 24, 26, 28], [0, 2, 4, 6, 8, 10, 12, 14, 16, 18, 20, 22, 24, 26, 28], [0, 2, 4, 6, 8, 10, 12, 14, 16, 18, 20, 22, 24, 26, 28], [0, 2, 4, 6, 8, 10, 12, 14, 16, 18, 20, 22, 24, 26, 28], [0, 2, 4, 6, 8, 10, 12, 14, 16, 18, 20, 22, 24, 26, 28]]\n",
          "name": "stdout"
        }
      ]
    },
    {
      "metadata": {
        "trusted": true
      },
      "cell_type": "code",
      "source": "print('element b[4][9] is:',b[4][9])\n",
      "execution_count": 14,
      "outputs": [
        {
          "output_type": "stream",
          "text": "element b[4][9] is: 18\n",
          "name": "stdout"
        }
      ]
    },
    {
      "metadata": {},
      "cell_type": "markdown",
      "source": "### Task 3\n\n\n\n\n\n\n"
    },
    {
      "metadata": {
        "trusted": true
      },
      "cell_type": "code",
      "source": "matrix = []\n\nfor row in range(5):\n    def_row = []\n    for i in range(5):\n        def_row.append(1)\n    matrix.append(def_row)\n    \nprint(matrix)",
      "execution_count": 60,
      "outputs": [
        {
          "output_type": "stream",
          "text": "[[1, 1, 1, 1, 1], [1, 1, 1, 1, 1], [1, 1, 1, 1, 1], [1, 1, 1, 1, 1], [1, 1, 1, 1, 1]]\n",
          "name": "stdout"
        }
      ]
    },
    {
      "metadata": {
        "trusted": true
      },
      "cell_type": "code",
      "source": "even_sum = 0\n\nfor row in matrix:\n    for index in row:\n        row[index] *= 2\n        \nprint(matrix)\n        \nprint('even_sum',even_sum)\n",
      "execution_count": 62,
      "outputs": [
        {
          "output_type": "stream",
          "text": "[[1, 8, 4, 1, 1], [1, 8, 4, 1, 1], [1, 8, 4, 1, 1], [1, 8, 4, 1, 1], [1, 8, 4, 1, 1]]\neven_sum 0\n",
          "name": "stdout"
        }
      ]
    },
    {
      "metadata": {
        "trusted": true
      },
      "cell_type": "code",
      "source": "",
      "execution_count": null,
      "outputs": []
    }
  ],
  "metadata": {
    "kernelspec": {
      "name": "python36",
      "display_name": "Python 3.6",
      "language": "python"
    },
    "language_info": {
      "mimetype": "text/x-python",
      "nbconvert_exporter": "python",
      "name": "python",
      "pygments_lexer": "ipython3",
      "version": "3.6.6",
      "file_extension": ".py",
      "codemirror_mode": {
        "version": 3,
        "name": "ipython"
      }
    }
  },
  "nbformat": 4,
  "nbformat_minor": 2
}